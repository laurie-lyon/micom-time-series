{
 "cells": [
  {
   "cell_type": "markdown",
   "metadata": {},
   "source": [
    "## Inputs: \n",
    "- {subject}_combined_otu_qiime2.tsv\n",
    "- agora ref seq "
   ]
  },
  {
   "cell_type": "code",
   "execution_count": 12,
   "metadata": {},
   "outputs": [],
   "source": [
    "import tqdm as tqdm\n",
    "import os\n",
    "import subprocess\n",
    "from pathlib import Path\n",
    "\n",
    "# Paths\n",
    "final_output_dir = \"../data/combined_meta_and_otu_outputs/\"\n",
    "rep_seq_path = \"../data/uclust_casey_rep_set.qza\"\n",
    "classifier_path = \"../data/silva-138-99-nb-classifier.qza\"\n",
    "qiime_output_dir = \"../data/qiime_outputs/\"\n",
    "Path(qiime_output_dir).mkdir(parents=True, exist_ok=True)"
   ]
  },
  {
   "cell_type": "code",
   "execution_count": null,
   "metadata": {},
   "outputs": [],
   "source": [
    "\n",
    "# Loop through each subject's OTU table\n",
    "for otu_file in tqdm(otu_files, desc=\"Processing OTU Tables\", unit=\"file\"):\n",
    "    if otu_file.endswith(\"_combined_otu_qiime2.tsv\"):\n",
    "        subject_id = otu_file.split(\"_\")[0]  # Extract subject ID (e.g., \"F01\")\n",
    "        print(f\"Processing SILVA taxonomy mapping for subject {subject_id}...\")\n",
    "\n",
    "        # Define paths\n",
    "        input_tsv = os.path.join(final_output_dir, otu_file)\n",
    "        biom_file = os.path.join(qiime_output_dir, f\"{subject_id}_combined_otu.biom\")\n",
    "        feature_table = os.path.join(qiime_output_dir, f\"{subject_id}_feature_table.qza\")\n",
    "        taxonomy_output = os.path.join(qiime_output_dir, f\"{subject_id}_taxonomy.qza\")\n",
    "        taxonomy_export = os.path.join(qiime_output_dir, f\"{subject_id}_taxonomy.tsv\")\n",
    "\n",
    "        # Step 1: Convert TSV to BIOM\n",
    "        print(f\"Converting {input_tsv} to BIOM format...\")\n",
    "        subprocess.run([\n",
    "            \"biom\", \"convert\",\n",
    "            \"-i\", input_tsv,               # Input TSV file\n",
    "            \"-o\", biom_file,               # Output BIOM file\n",
    "            \"--table-type\", \"OTU table\",   # Specify table type\n",
    "            \"--to-hdf5\"                    # Use HDF5 format for BIOM\n",
    "        ], check=True)\n",
    "\n",
    "        # Step 2: Import BIOM file as a QIIME2 artifact\n",
    "        print(f\"Importing BIOM file {biom_file} into QIIME2...\")\n",
    "        subprocess.run([\n",
    "            \"qiime\", \"tools\", \"import\",\n",
    "            \"--type\", \"FeatureTable[Frequency]\",  # QIIME2 type\n",
    "            \"--input-path\", biom_file,            # Path to the BIOM file\n",
    "            \"--output-path\", feature_table        # Output QIIME2 artifact\n",
    "        ], check=True)\n",
    "\n",
    "        # Step 3: Classify OTUs using SILVA\n",
    "        print(f\"Classifying OTUs for subject {subject_id} using SILVA...\")\n",
    "        subprocess.run([\n",
    "            \"qiime\", \"feature-classifier\", \"classify-sklearn\",\n",
    "            \"--i-classifier\", classifier_path,    # SILVA classifier\n",
    "            \"--i-reads\", rep_seq_path,          # rep seq QIIME2 artifact\n",
    "            \"--o-classification\", taxonomy_output  # Output taxonomy\n",
    "        ], check=True)\n",
    "\n",
    "        # Step 4: Export taxonomy to TSV\n",
    "        print(f\"Exporting taxonomy for subject {subject_id}...\")\n",
    "        subprocess.run([\n",
    "            \"qiime\", \"tools\", \"export\",\n",
    "            \"--input-path\", taxonomy_output,  # QIIME2 taxonomy artifact\n",
    "            \"--output-path\", qiime_output_dir # Export directory\n",
    "        ], check=True)\n",
    "\n",
    "        print(f\"Taxonomy mapping for subject {subject_id} saved to {taxonomy_export}.\")"
   ]
  },
  {
   "cell_type": "code",
   "execution_count": 25,
   "metadata": {},
   "outputs": [
    {
     "name": "stdout",
     "output_type": "stream",
     "text": [
      "\u001b[32mSaved Visualization to: ../data/qiime_outputs/F01_feature_table.qzv\u001b[0m\n",
      "\u001b[0m"
     ]
    }
   ],
   "source": [
    "!qiime feature-table summarize \\\n",
    "    --i-table ../data/qiime_outputs/F01_feature_table.qza \\\n",
    "    --o-visualization ../data/qiime_outputs/F01_feature_table.qzv"
   ]
  },
  {
   "cell_type": "markdown",
   "metadata": {},
   "source": [
    "## Running wrapped script with parser "
   ]
  },
  {
   "cell_type": "code",
   "execution_count": 38,
   "metadata": {},
   "outputs": [
    {
     "name": "stdout",
     "output_type": "stream",
     "text": [
      "Converting representative sequences to QIIME2 artifact...\n",
      "\u001b[32mImported ../data/qiime_outputs/rep_set.fna as DNASequencesDirectoryFormat to ../data/qiime_outputs/rep_set.qza\u001b[0m\n",
      "Processing OTU Tables:   0%|                            | 0/3 [00:00<?, ?file/s]\n",
      "Processing SILVA taxonomy mapping for subject F01...\n",
      "Converting ../data/combined_meta_and_otu_outputs/F01_combined_otu_qiime2.tsv to BIOM format...\n",
      "Importing BIOM file ../data/qiime_outputs/F01_combined_otu.biom into QIIME2...\n",
      "\u001b[32mImported ../data/qiime_outputs/F01_combined_otu.biom as BIOMV210DirFmt to ../data/qiime_outputs/F01_feature_table.qza\u001b[0m\n",
      "\u001b[0mClassifying OTUs for subject F01 using SILVA...\n",
      "\u001b[32mSaved FeatureData[Taxonomy] to: ../data/qiime_outputs/F01_taxonomy.qza\u001b[0m\n",
      "\u001b[0mExporting taxonomy for subject F01...\n",
      "\u001b[32mExported ../data/qiime_outputs/F01_taxonomy.qza as TSVTaxonomyDirectoryFormat to directory ../data/qiime_outputs/\u001b[0m\n",
      "\u001b[0mTaxonomy mapping for subject F01 saved to ../data/qiime_outputs/F01_taxonomy.tsv.\n",
      "Processing OTU Tables:  33%|██████▋             | 1/3 [00:48<01:37, 48.72s/file]\n",
      "Processing SILVA taxonomy mapping for subject M02...\n",
      "Converting ../data/combined_meta_and_otu_outputs/M02_combined_otu_qiime2.tsv to BIOM format...\n",
      "Importing BIOM file ../data/qiime_outputs/M02_combined_otu.biom into QIIME2...\n",
      "\u001b[32mImported ../data/qiime_outputs/M02_combined_otu.biom as BIOMV210DirFmt to ../data/qiime_outputs/M02_feature_table.qza\u001b[0m\n",
      "\u001b[0mClassifying OTUs for subject M02 using SILVA...\n",
      "\u001b[32mSaved FeatureData[Taxonomy] to: ../data/qiime_outputs/M02_taxonomy.qza\u001b[0m\n",
      "\u001b[0mExporting taxonomy for subject M02...\n",
      "\u001b[32mExported ../data/qiime_outputs/M02_taxonomy.qza as TSVTaxonomyDirectoryFormat to directory ../data/qiime_outputs/\u001b[0m\n",
      "\u001b[0mTaxonomy mapping for subject M02 saved to ../data/qiime_outputs/M02_taxonomy.tsv.\n",
      "Processing OTU Tables:  67%|█████████████▎      | 2/3 [01:52<00:57, 57.48s/file]\n",
      "Processing SILVA taxonomy mapping for subject M01...\n",
      "Converting ../data/combined_meta_and_otu_outputs/M01_combined_otu_qiime2.tsv to BIOM format...\n",
      "Importing BIOM file ../data/qiime_outputs/M01_combined_otu.biom into QIIME2...\n",
      "\u001b[32mImported ../data/qiime_outputs/M01_combined_otu.biom as BIOMV210DirFmt to ../data/qiime_outputs/M01_feature_table.qza\u001b[0m\n",
      "\u001b[0mClassifying OTUs for subject M01 using SILVA...\n",
      "\u001b[32mSaved FeatureData[Taxonomy] to: ../data/qiime_outputs/M01_taxonomy.qza\u001b[0m\n",
      "\u001b[0mExporting taxonomy for subject M01...\n",
      "\u001b[32mExported ../data/qiime_outputs/M01_taxonomy.qza as TSVTaxonomyDirectoryFormat to directory ../data/qiime_outputs/\u001b[0m\n",
      "\u001b[0mTaxonomy mapping for subject M01 saved to ../data/qiime_outputs/M01_taxonomy.tsv.\n",
      "Processing OTU Tables: 100%|████████████████████| 3/3 [02:38<00:00, 52.68s/file]\n"
     ]
    }
   ],
   "source": [
    "!python ../scripts/silva_taxonomy_mapping.py \\\n",
    "    -i ../data/combined_meta_and_otu_outputs/ \\\n",
    "    -r ../data/qiime_outputs/rep_set.fna \\\n",
    "    -c ../data/silva-138-99-nb-classifier.qza \\\n",
    "    -o ../data/qiime_outputs/"
   ]
  },
  {
   "cell_type": "code",
   "execution_count": 36,
   "metadata": {},
   "outputs": [],
   "source": [
    "!biom convert \\\n",
    "    -i ../data/qiime_outputs/F01_combined_otu.biom \\\n",
    "    -o ../data/qiime_outputs/F01_combined_otu.tsv \\\n",
    "    --to-tsv"
   ]
  }
 ],
 "metadata": {
  "kernelspec": {
   "display_name": "Python 3",
   "language": "python",
   "name": "python3"
  },
  "language_info": {
   "codemirror_mode": {
    "name": "ipython",
    "version": 3
   },
   "file_extension": ".py",
   "mimetype": "text/x-python",
   "name": "python",
   "nbconvert_exporter": "python",
   "pygments_lexer": "ipython3",
   "version": "3.9.19"
  }
 },
 "nbformat": 4,
 "nbformat_minor": 2
}
