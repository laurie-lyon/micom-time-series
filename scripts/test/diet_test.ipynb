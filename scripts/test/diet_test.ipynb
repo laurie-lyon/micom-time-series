{
 "cells": [
  {
   "cell_type": "code",
   "execution_count": 1,
   "metadata": {},
   "outputs": [],
   "source": [
    "import pandas as pd \n",
    "\n",
    "diet = pd.read_csv('diet_components.csv')\n",
    "comp_diet = pd.read_csv('comp_diet_components.csv')"
   ]
  },
  {
   "cell_type": "code",
   "execution_count": 2,
   "metadata": {},
   "outputs": [
    {
     "name": "stdout",
     "output_type": "stream",
     "text": [
      "         reaction metabolite      global_id  flux\n",
      "0       EX_4abz_m     4abz_m     EX_4abz(e)   0.1\n",
      "1       EX_4hbz_m     4hbz_m     EX_4hbz(e)   0.1\n",
      "2         EX_ac_m       ac_m       EX_ac(e)   0.1\n",
      "3      EX_acgam_m    acgam_m    EX_acgam(e)   0.1\n",
      "4      EX_ala_L_m    ala_L_m    EX_ala_L(e)   0.1\n",
      "..            ...        ...            ...   ...\n",
      "166     EX_octa_m     octa_m     EX_octa(e)   0.0\n",
      "167   EX_adpcbl_m   adpcbl_m   EX_adpcbl(e)   0.0\n",
      "168  EX_fe3dcit_m  fe3dcit_m  EX_fe3dcit(e)   0.0\n",
      "169   EX_pydx5p_m   pydx5p_m   EX_pydx5p(e)   0.0\n",
      "170    EX_glu_D_m    glu_D_m    EX_glu_D(e)   0.0\n",
      "\n",
      "[171 rows x 4 columns]\n",
      "          reaction  metabolite  \\\n",
      "0    EX_12dgr180_m  12dgr180_m   \n",
      "1     EX_26dap_M_m   26dap_M_m   \n",
      "2      EX_2dmmq8_m    2dmmq8_m   \n",
      "3       EX_2obut_m     2obut_m   \n",
      "4        EX_3mop_m      3mop_m   \n",
      "..             ...         ...   \n",
      "149       EX_xan_m       xan_m   \n",
      "150     EX_xyl_D_m     xyl_D_m   \n",
      "151     EX_xylan_m     xylan_m   \n",
      "152   EX_xyluglc_m   xyluglc_m   \n",
      "153       EX_zn2_m       zn2_m   \n",
      "\n",
      "                                           description      flux  \n",
      "0     1,2-Diacyl-sn-glycerol (dioctadecanoyl, n-C18:0)  0.100000  \n",
      "1                        meso-2,6-Diaminoheptanedioate  0.100000  \n",
      "2                              2-Demethylmenaquinone 8  0.100000  \n",
      "3                                       2-Oxobutanoate  0.100000  \n",
      "4                             3-methyl-2-oxopentanoate  0.100000  \n",
      "..                                                 ...       ...  \n",
      "149                                           Xanthine  0.100000  \n",
      "150                                  aldehydo-D-xylose  0.017878  \n",
      "151  Oat spelt xylan, MW 79200 (DOI: 10.1002/masy.2...  0.000032  \n",
      "152  Xyluglucan, PMID:16663672, Fry SC 1989. 600 gl...  0.000013  \n",
      "153                                               Zinc  0.100000  \n",
      "\n",
      "[154 rows x 4 columns]\n"
     ]
    }
   ],
   "source": [
    "print(diet)\n",
    "print(comp_diet)"
   ]
  },
  {
   "cell_type": "code",
   "execution_count": 3,
   "metadata": {},
   "outputs": [
    {
     "data": {
      "application/vnd.microsoft.datawrangler.viewer.v0+json": {
       "columns": [
        {
         "name": "index",
         "rawType": "int64",
         "type": "integer"
        },
        {
         "name": "reaction",
         "rawType": "object",
         "type": "string"
        },
        {
         "name": "metabolite",
         "rawType": "object",
         "type": "string"
        },
        {
         "name": "global_id",
         "rawType": "object",
         "type": "string"
        },
        {
         "name": "flux",
         "rawType": "float64",
         "type": "float"
        }
       ],
       "conversionMethod": "pd.DataFrame",
       "ref": "6c816788-c9c3-4c1f-9c34-3286ac90500a",
       "rows": [
        [
         "0",
         "EX_4abz_m",
         "4abz_m",
         "EX_4abz(e)",
         "0.1"
        ],
        [
         "1",
         "EX_4hbz_m",
         "4hbz_m",
         "EX_4hbz(e)",
         "0.1"
        ],
        [
         "2",
         "EX_ac_m",
         "ac_m",
         "EX_ac(e)",
         "0.1"
        ],
        [
         "3",
         "EX_acgam_m",
         "acgam_m",
         "EX_acgam(e)",
         "0.1"
        ],
        [
         "4",
         "EX_ala_L_m",
         "ala_L_m",
         "EX_ala_L(e)",
         "0.1"
        ],
        [
         "5",
         "EX_amp_m",
         "amp_m",
         "EX_amp(e)",
         "0.1"
        ],
        [
         "6",
         "EX_asn_L_m",
         "asn_L_m",
         "EX_asn_L(e)",
         "0.0225"
        ],
        [
         "7",
         "EX_asp_L_m",
         "asp_L_m",
         "EX_asp_L(e)",
         "0.0225"
        ],
        [
         "8",
         "EX_ca2_m",
         "ca2_m",
         "EX_ca2(e)",
         "0.1"
        ],
        [
         "9",
         "EX_cgly_m",
         "cgly_m",
         "EX_cgly(e)",
         "0.1"
        ],
        [
         "10",
         "EX_cl_m",
         "cl_m",
         "EX_cl(e)",
         "0.1"
        ],
        [
         "11",
         "EX_cobalt2_m",
         "cobalt2_m",
         "EX_cobalt2(e)",
         "0.1"
        ],
        [
         "12",
         "EX_cu2_m",
         "cu2_m",
         "EX_cu2(e)",
         "0.1"
        ],
        [
         "13",
         "EX_cys_L_m",
         "cys_L_m",
         "EX_cys_L(e)",
         "0.1"
        ],
        [
         "14",
         "EX_ddca_m",
         "ddca_m",
         "EX_ddca(e)",
         "0.1"
        ],
        [
         "15",
         "EX_drib_m",
         "drib_m",
         "EX_drib(e)",
         "0.0178783"
        ],
        [
         "16",
         "EX_fe2_m",
         "fe2_m",
         "EX_fe2(e)",
         "0.1"
        ],
        [
         "17",
         "EX_fe3_m",
         "fe3_m",
         "EX_fe3(e)",
         "0.1"
        ],
        [
         "18",
         "EX_for_m",
         "for_m",
         "EX_for(e)",
         "0.1"
        ],
        [
         "19",
         "EX_fru_m",
         "fru_m",
         "EX_fru(e)",
         "0.0148985999999999"
        ],
        [
         "20",
         "EX_fum_m",
         "fum_m",
         "EX_fum(e)",
         "0.1"
        ],
        [
         "21",
         "EX_gal_m",
         "gal_m",
         "EX_gal(e)",
         "0.0148985999999999"
        ],
        [
         "22",
         "EX_gam_m",
         "gam_m",
         "EX_gam(e)",
         "0.1"
        ],
        [
         "23",
         "EX_gln_L_m",
         "gln_L_m",
         "EX_gln_L(e)",
         "0.018"
        ],
        [
         "24",
         "EX_glu_L_m",
         "glu_L_m",
         "EX_glu_L(e)",
         "0.018"
        ],
        [
         "25",
         "EX_gly_m",
         "gly_m",
         "EX_gly(e)",
         "0.045"
        ],
        [
         "26",
         "EX_glyc_m",
         "glyc_m",
         "EX_glyc(e)",
         "0.1799655"
        ],
        [
         "27",
         "EX_glyc3p_m",
         "glyc3p_m",
         "EX_glyc3p(e)",
         "0.1"
        ],
        [
         "28",
         "EX_gua_m",
         "gua_m",
         "EX_gua(e)",
         "0.1"
        ],
        [
         "29",
         "EX_h_m",
         "h_m",
         "EX_h(e)",
         "0.1"
        ],
        [
         "30",
         "EX_h2o_m",
         "h2o_m",
         "EX_h2o(e)",
         "10.0"
        ],
        [
         "31",
         "EX_his_L_m",
         "his_L_m",
         "EX_his_L(e)",
         "0.015"
        ],
        [
         "32",
         "EX_hxan_m",
         "hxan_m",
         "EX_hxan(e)",
         "0.1"
        ],
        [
         "33",
         "EX_ile_L_m",
         "ile_L_m",
         "EX_ile_L(e)",
         "0.015"
        ],
        [
         "34",
         "EX_inulin_m",
         "inulin_m",
         "EX_inulin(e)",
         "0.000470195"
        ],
        [
         "35",
         "EX_k_m",
         "k_m",
         "EX_k(e)",
         "0.1"
        ],
        [
         "36",
         "EX_lcts_m",
         "lcts_m",
         "EX_lcts(e)",
         "0.0074492999999999"
        ],
        [
         "37",
         "EX_leu_L_m",
         "leu_L_m",
         "EX_leu_L(e)",
         "0.015"
        ],
        [
         "38",
         "EX_lys_L_m",
         "lys_L_m",
         "EX_lys_L(e)",
         "0.015"
        ],
        [
         "39",
         "EX_malt_m",
         "malt_m",
         "EX_malt(e)",
         "0.0074492999999999"
        ],
        [
         "40",
         "EX_man_m",
         "man_m",
         "EX_man(e)",
         "0.0148985999999999"
        ],
        [
         "41",
         "EX_met_L_m",
         "met_L_m",
         "EX_met_L(e)",
         "0.018"
        ],
        [
         "42",
         "EX_metsox_S_L_m",
         "metsox_S_L_m",
         "EX_metsox_S_L(e)",
         "0.1"
        ],
        [
         "43",
         "EX_mg2_m",
         "mg2_m",
         "EX_mg2(e)",
         "0.1"
        ],
        [
         "44",
         "EX_mn2_m",
         "mn2_m",
         "EX_mn2(e)",
         "0.1"
        ],
        [
         "45",
         "EX_mnl_m",
         "mnl_m",
         "EX_mnl(e)",
         "0.0148985999999999"
        ],
        [
         "46",
         "EX_mqn8_m",
         "mqn8_m",
         "EX_mqn8(e)",
         "0.1"
        ],
        [
         "47",
         "EX_na1_m",
         "na1_m",
         "EX_na1(e)",
         "0.1"
        ],
        [
         "48",
         "EX_nac_m",
         "nac_m",
         "EX_nac(e)",
         "0.1"
        ],
        [
         "49",
         "EX_o2_m",
         "o2_m",
         "EX_o2(e)",
         "0.001"
        ]
       ],
       "shape": {
        "columns": 4,
        "rows": 171
       }
      },
      "text/html": [
       "<div>\n",
       "<style scoped>\n",
       "    .dataframe tbody tr th:only-of-type {\n",
       "        vertical-align: middle;\n",
       "    }\n",
       "\n",
       "    .dataframe tbody tr th {\n",
       "        vertical-align: top;\n",
       "    }\n",
       "\n",
       "    .dataframe thead th {\n",
       "        text-align: right;\n",
       "    }\n",
       "</style>\n",
       "<table border=\"1\" class=\"dataframe\">\n",
       "  <thead>\n",
       "    <tr style=\"text-align: right;\">\n",
       "      <th></th>\n",
       "      <th>reaction</th>\n",
       "      <th>metabolite</th>\n",
       "      <th>global_id</th>\n",
       "      <th>flux</th>\n",
       "    </tr>\n",
       "  </thead>\n",
       "  <tbody>\n",
       "    <tr>\n",
       "      <th>0</th>\n",
       "      <td>EX_4abz_m</td>\n",
       "      <td>4abz_m</td>\n",
       "      <td>EX_4abz(e)</td>\n",
       "      <td>0.1</td>\n",
       "    </tr>\n",
       "    <tr>\n",
       "      <th>1</th>\n",
       "      <td>EX_4hbz_m</td>\n",
       "      <td>4hbz_m</td>\n",
       "      <td>EX_4hbz(e)</td>\n",
       "      <td>0.1</td>\n",
       "    </tr>\n",
       "    <tr>\n",
       "      <th>2</th>\n",
       "      <td>EX_ac_m</td>\n",
       "      <td>ac_m</td>\n",
       "      <td>EX_ac(e)</td>\n",
       "      <td>0.1</td>\n",
       "    </tr>\n",
       "    <tr>\n",
       "      <th>3</th>\n",
       "      <td>EX_acgam_m</td>\n",
       "      <td>acgam_m</td>\n",
       "      <td>EX_acgam(e)</td>\n",
       "      <td>0.1</td>\n",
       "    </tr>\n",
       "    <tr>\n",
       "      <th>4</th>\n",
       "      <td>EX_ala_L_m</td>\n",
       "      <td>ala_L_m</td>\n",
       "      <td>EX_ala_L(e)</td>\n",
       "      <td>0.1</td>\n",
       "    </tr>\n",
       "    <tr>\n",
       "      <th>...</th>\n",
       "      <td>...</td>\n",
       "      <td>...</td>\n",
       "      <td>...</td>\n",
       "      <td>...</td>\n",
       "    </tr>\n",
       "    <tr>\n",
       "      <th>166</th>\n",
       "      <td>EX_octa_m</td>\n",
       "      <td>octa_m</td>\n",
       "      <td>EX_octa(e)</td>\n",
       "      <td>0.0</td>\n",
       "    </tr>\n",
       "    <tr>\n",
       "      <th>167</th>\n",
       "      <td>EX_adpcbl_m</td>\n",
       "      <td>adpcbl_m</td>\n",
       "      <td>EX_adpcbl(e)</td>\n",
       "      <td>0.0</td>\n",
       "    </tr>\n",
       "    <tr>\n",
       "      <th>168</th>\n",
       "      <td>EX_fe3dcit_m</td>\n",
       "      <td>fe3dcit_m</td>\n",
       "      <td>EX_fe3dcit(e)</td>\n",
       "      <td>0.0</td>\n",
       "    </tr>\n",
       "    <tr>\n",
       "      <th>169</th>\n",
       "      <td>EX_pydx5p_m</td>\n",
       "      <td>pydx5p_m</td>\n",
       "      <td>EX_pydx5p(e)</td>\n",
       "      <td>0.0</td>\n",
       "    </tr>\n",
       "    <tr>\n",
       "      <th>170</th>\n",
       "      <td>EX_glu_D_m</td>\n",
       "      <td>glu_D_m</td>\n",
       "      <td>EX_glu_D(e)</td>\n",
       "      <td>0.0</td>\n",
       "    </tr>\n",
       "  </tbody>\n",
       "</table>\n",
       "<p>171 rows × 4 columns</p>\n",
       "</div>"
      ],
      "text/plain": [
       "         reaction metabolite      global_id  flux\n",
       "0       EX_4abz_m     4abz_m     EX_4abz(e)   0.1\n",
       "1       EX_4hbz_m     4hbz_m     EX_4hbz(e)   0.1\n",
       "2         EX_ac_m       ac_m       EX_ac(e)   0.1\n",
       "3      EX_acgam_m    acgam_m    EX_acgam(e)   0.1\n",
       "4      EX_ala_L_m    ala_L_m    EX_ala_L(e)   0.1\n",
       "..            ...        ...            ...   ...\n",
       "166     EX_octa_m     octa_m     EX_octa(e)   0.0\n",
       "167   EX_adpcbl_m   adpcbl_m   EX_adpcbl(e)   0.0\n",
       "168  EX_fe3dcit_m  fe3dcit_m  EX_fe3dcit(e)   0.0\n",
       "169   EX_pydx5p_m   pydx5p_m   EX_pydx5p(e)   0.0\n",
       "170    EX_glu_D_m    glu_D_m    EX_glu_D(e)   0.0\n",
       "\n",
       "[171 rows x 4 columns]"
      ]
     },
     "execution_count": 3,
     "metadata": {},
     "output_type": "execute_result"
    }
   ],
   "source": [
    "diet"
   ]
  },
  {
   "cell_type": "code",
   "execution_count": 4,
   "metadata": {},
   "outputs": [
    {
     "data": {
      "application/vnd.microsoft.datawrangler.viewer.v0+json": {
       "columns": [
        {
         "name": "index",
         "rawType": "int64",
         "type": "integer"
        },
        {
         "name": "reaction",
         "rawType": "object",
         "type": "string"
        },
        {
         "name": "metabolite",
         "rawType": "object",
         "type": "string"
        },
        {
         "name": "global_id",
         "rawType": "object",
         "type": "string"
        },
        {
         "name": "flux_og",
         "rawType": "float64",
         "type": "float"
        },
        {
         "name": "description",
         "rawType": "object",
         "type": "string"
        },
        {
         "name": "flux_completed",
         "rawType": "float64",
         "type": "float"
        },
        {
         "name": "flux_diff",
         "rawType": "float64",
         "type": "float"
        }
       ],
       "conversionMethod": "pd.DataFrame",
       "ref": "20752af1-f423-4134-9099-9aa513149a1e",
       "rows": [
        [
         "29",
         "EX_bglc_m",
         "bglc_m",
         "EX_bglc(e)",
         "7.05e-08",
         "beta-glucans",
         "1e-06",
         "9.295e-07"
        ]
       ],
       "shape": {
        "columns": 7,
        "rows": 1
       }
      },
      "text/html": [
       "<div>\n",
       "<style scoped>\n",
       "    .dataframe tbody tr th:only-of-type {\n",
       "        vertical-align: middle;\n",
       "    }\n",
       "\n",
       "    .dataframe tbody tr th {\n",
       "        vertical-align: top;\n",
       "    }\n",
       "\n",
       "    .dataframe thead th {\n",
       "        text-align: right;\n",
       "    }\n",
       "</style>\n",
       "<table border=\"1\" class=\"dataframe\">\n",
       "  <thead>\n",
       "    <tr style=\"text-align: right;\">\n",
       "      <th></th>\n",
       "      <th>reaction</th>\n",
       "      <th>metabolite</th>\n",
       "      <th>global_id</th>\n",
       "      <th>flux_og</th>\n",
       "      <th>description</th>\n",
       "      <th>flux_completed</th>\n",
       "      <th>flux_diff</th>\n",
       "    </tr>\n",
       "  </thead>\n",
       "  <tbody>\n",
       "    <tr>\n",
       "      <th>29</th>\n",
       "      <td>EX_bglc_m</td>\n",
       "      <td>bglc_m</td>\n",
       "      <td>EX_bglc(e)</td>\n",
       "      <td>7.050000e-08</td>\n",
       "      <td>beta-glucans</td>\n",
       "      <td>0.000001</td>\n",
       "      <td>9.295000e-07</td>\n",
       "    </tr>\n",
       "  </tbody>\n",
       "</table>\n",
       "</div>"
      ],
      "text/plain": [
       "     reaction metabolite   global_id       flux_og   description  \\\n",
       "29  EX_bglc_m     bglc_m  EX_bglc(e)  7.050000e-08  beta-glucans   \n",
       "\n",
       "    flux_completed     flux_diff  \n",
       "29        0.000001  9.295000e-07  "
      ]
     },
     "execution_count": 4,
     "metadata": {},
     "output_type": "execute_result"
    }
   ],
   "source": [
    "diet_merged = pd.merge(diet, comp_diet, on=['reaction', 'metabolite'], how='outer', suffixes=('_og', '_completed'))\n",
    "diet_merged[\"flux_diff\"] = diet_merged[\"flux_completed\"] - diet_merged[\"flux_og\"]\n",
    "diet_merged[diet_merged[\"flux_diff\"] > 0]\n",
    "\n"
   ]
  },
  {
   "cell_type": "code",
   "execution_count": 7,
   "metadata": {},
   "outputs": [],
   "source": [
    "import pandas as pd \n",
    "\n",
    "diet = pd.read_csv('diet_components.csv')\n",
    "comp_diet = pd.read_csv('comp_diet_components.csv')\n",
    "\n",
    "diet_merged = pd.merge(diet, comp_diet, on=['reaction', 'metabolite'], how='outer', suffixes=('_og', '_completed'))\n",
    "diet_merged[\"flux_diff\"] = diet_merged[\"flux_completed\"] - diet_merged[\"flux_og\"]\n",
    "diet_merged[diet_merged[\"flux_diff\"] > 0]\n",
    "\n",
    "def add_suggested_metabolites(diet_og, diet_sugg, added_metabolites=\"added_metabolites.csv\"):\n",
    "    \"\"\"\n",
    "    This function takes in the original diet and the micom suggested (completed) diet \n",
    "    and returns a new diet that includes the suggested metabolites \n",
    "    without removing the original ones.\n",
    "    \n",
    "    Inputs: \n",
    "    diet_og: pandas dataframe with the original diet\n",
    "    diet_sugg: pandas dataframe with the diet from micom complete_community_medium \n",
    "    \"\"\"\n",
    "    diet_merged = pd.merge(diet_og, diet_sugg, on=['reaction', 'metabolite'], how='outer', suffixes=('_og', '_sugg'))\n",
    "    diet_merged[\"flux_diff\"] = diet_merged[\"flux_sugg\"] - diet_merged[\"flux_og\"]\n",
    "    added_metabolites = diet_merged[diet_merged[\"flux_diff\"] > 0]\n",
    "    added_metabolites = added_metabolites[[\"reaction\", \"metabolite\", \"global_id\", \"flux_sugg\"]]\n",
    "    added_metabolites = added_metabolites.rename(columns={\"flux_sugg\": \"flux\"})\n",
    "    #save added_metabolites to a csv file\n",
    "    added_metabolites.to_csv(added_metabolites, index=False)\n",
    "    #add added_metabolites to diet_og\n",
    "    diet_new = pd.concat([diet_og, added_metabolites], ignore_index=True)\n",
    "    #reindex diet_new\n",
    "    diet_new = diet_new.reset_index(drop=True)\n",
    "    return diet_new"
   ]
  },
  {
   "cell_type": "markdown",
   "metadata": {},
   "source": [
    "Want to add an output that shows which metabolites were added\n",
    "Ideas \n",
    "- print(added_metabolites )"
   ]
  }
 ],
 "metadata": {
  "kernelspec": {
   "display_name": "Python 3",
   "language": "python",
   "name": "python3"
  },
  "language_info": {
   "codemirror_mode": {
    "name": "ipython",
    "version": 3
   },
   "file_extension": ".py",
   "mimetype": "text/x-python",
   "name": "python",
   "nbconvert_exporter": "python",
   "pygments_lexer": "ipython3",
   "version": "3.12.0"
  }
 },
 "nbformat": 4,
 "nbformat_minor": 2
}
